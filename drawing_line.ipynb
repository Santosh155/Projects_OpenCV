{
 "cells": [
  {
   "cell_type": "code",
   "execution_count": 4,
   "metadata": {
    "scrolled": true
   },
   "outputs": [],
   "source": [
    "import numpy as np\n",
    "import cv2\n",
    "\n",
    "img = np.zeros((512, 512, 3), np.uint8)\n",
    "line = cv2.line(img, (0,0), (511, 511), (255, 0, 0), 5)\n",
    "# cv2.imshow('line', line)\n",
    "img = cv2.rectangle(img, (380, 0), (510, 128), (0, 255, 0), 3)\n",
    "img = cv2.circle(img, (447, 63), 63, (0, 0, 255), -1)\n",
    "img = cv2.ellipse(img, (256, 256), (100, 50), 0, 0, 180, 255, -1)\n",
    "pts = np.array([[10, 5], [20, 30], [70, 20], [50, 10]], np.int32)\n",
    "pts = pts.reshape((-1, 1, 2))\n",
    "img = cv2.polylines(img, [pts], True, (0, 255, 255))\n",
    "font = cv2.FONT_HERSHEY_SIMPLEX\n",
    "text = cv2.putText(img, 'OpenCV', (10, 500), font, 4, (255, 255, 255), 2, cv2.LINE_AA)\n",
    "cv2.imshow('text', text)\n",
    "cv2.waitKey(0)\n",
    "cv2.destroyAllWindows()"
   ]
  },
  {
   "cell_type": "code",
   "execution_count": 3,
   "metadata": {},
   "outputs": [],
   "source": [
    "import cv2\n",
    "import numpy as np\n",
    "\n",
    "img = np.zeros((512, 512, 3), np.uint8)\n",
    "line = cv2.line(img, (0, 0), (511, 511), (0, 255, 0), 3)\n",
    "circle = cv2.circle(img, (447, 63), 63, (0, 0, 255), -1)\n",
    "cv2.imshow('line', circle)\n",
    "cv2.waitKey(0)\n",
    "cv2.destroyAllWindows()"
   ]
  },
  {
   "cell_type": "code",
   "execution_count": null,
   "metadata": {},
   "outputs": [],
   "source": []
  }
 ],
 "metadata": {
  "kernelspec": {
   "display_name": "Python 3",
   "language": "python",
   "name": "python3"
  },
  "language_info": {
   "codemirror_mode": {
    "name": "ipython",
    "version": 3
   },
   "file_extension": ".py",
   "mimetype": "text/x-python",
   "name": "python",
   "nbconvert_exporter": "python",
   "pygments_lexer": "ipython3",
   "version": "3.6.7"
  }
 },
 "nbformat": 4,
 "nbformat_minor": 2
}
