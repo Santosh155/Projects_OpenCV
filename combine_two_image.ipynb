{
 "cells": [
  {
   "cell_type": "code",
   "execution_count": null,
   "metadata": {},
   "outputs": [],
   "source": [
    "import cv2\n",
    "img1 = cv2.imread('OpenCV_Logo.png')\n",
    "img2 = cv2.imread('yml.jpg')\n",
    "add_weight = cv2.addWeighted(img1, 0.2, img2, 0.8, 0)\n",
    "cv2.imshow('add weight', add_weight)\n",
    "cv2.waitKey(0)\n",
    "cv2.destroyAllWindows()"
   ]
  },
  {
   "cell_type": "code",
   "execution_count": null,
   "metadata": {
    "scrolled": true
   },
   "outputs": [],
   "source": [
    "import cv2\n",
    "\n",
    "img1 = cv2.imread('OpenCV_Logo.png')\n",
    "img3 = cv2.imread('download.jpeg')\n",
    "# print(img3.shape)\n",
    "#create ROI (Region of interest)\n",
    "rows, cols, channel = img1.shape\n",
    "roi = img3[0:rows, 0:cols]\n",
    "\n",
    "#create mask of logo and inverse of it\n",
    "img2gray = cv2.cvtColor(img1, cv2.COLOR_BGR2GRAY)\n",
    "ret, mask = cv2.threshold(img2gray, 20, 250, cv2.THRESH_BINARY)\n",
    "print(ret)\n",
    "print(mask)\n",
    "mask_inv = cv2.bitwise_not(mask)\n",
    "print(mask_inv)\n",
    "# cv2.imshow(' mask', mask)\n",
    "\n",
    "#Now black out the area of logo in ROI\n",
    "img3_bg = cv2.bitwise_and(roi, roi, mask = mask_inv)\n",
    "\n",
    "#Take only region of logo from logo image\n",
    "img1_fg = cv2.bitwise_and(img1, img1, mask = mask)\n",
    "\n",
    "#Put logo in ROI and modify the main image\n",
    "dst = cv2.add(img3_bg, img1_fg)\n",
    "img3[0:rows, 0:cols] = dst \n",
    "print(dst)\n",
    "cv2.imshow('result', img3)\n",
    "cv2.waitKey(0)\n",
    "cv2.destroyAllWindows()"
   ]
  },
  {
   "cell_type": "code",
   "execution_count": null,
   "metadata": {},
   "outputs": [],
   "source": []
  }
 ],
 "metadata": {
  "kernelspec": {
   "display_name": "Python 3",
   "language": "python",
   "name": "python3"
  },
  "language_info": {
   "codemirror_mode": {
    "name": "ipython",
    "version": 3
   },
   "file_extension": ".py",
   "mimetype": "text/x-python",
   "name": "python",
   "nbconvert_exporter": "python",
   "pygments_lexer": "ipython3",
   "version": "3.6.7"
  }
 },
 "nbformat": 4,
 "nbformat_minor": 2
}
